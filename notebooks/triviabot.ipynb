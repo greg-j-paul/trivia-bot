{
 "cells": [
  {
   "cell_type": "code",
   "execution_count": null,
   "source": [
    "from mediawiki import MediaWiki\n",
    "from flair.data import Sentence\n",
    "from flair.models import SequenceTagger\n",
    "from transformers import pipeline\n",
    "import logging\n",
    "\n",
    "\n",
    "\n",
    "class WikiFinder:\n",
    "    def __init__(self) -> None:\n",
    "        self.tagger = SequenceTagger.load('flair/ner-english')\n",
    "        self.wikipedia = MediaWiki()\n",
    "    \n",
    "    def ner_predict(self, question):\n",
    "        sentence = Sentence(question)\n",
    "        self.tagger.predict(sentence)\n",
    "        entities = [entity for entity in sentence.get_spans('ner')]\n",
    "        return entities\n",
    "\n",
    "    def find_wikis(self, word):\n",
    "        if not isinstance(word, str):\n",
    "            word = word.to_original_text()\n",
    "        return self.wikipedia.search(word)\n",
    "\n",
    "    def read_content(self, page):\n",
    "        return self.wikipedia.page(page).content\n",
    "\n",
    "    def get_url(self, page):\n",
    "        return self.wikipedia.page(page).url\n",
    "\n",
    "class FindAnswers:\n",
    "    def __init__(self):\n",
    "        self.nlp = pipeline(\"question-answering\")\n",
    "        self.wf = WikiFinder()\n",
    "\n",
    "    def ExtractText(self, question, context):\n",
    "        return self.nlp(question=question, context=context)\n",
    "\n",
    "    def AnswerQuestion(self, question):\n",
    "        logging.info(f\"Answering qn :{question}\")\n",
    "        entities = self.wf.ner_predict(question)\n",
    "        wikis = []\n",
    "        answers = []\n",
    "        for entity in entities:\n",
    "            wikis += self.wf.find_wikis(entity)[0:1]\n",
    "        for wiki in wikis:\n",
    "            logging.info(f\"searching wiki: {wiki}\")\n",
    "            context = self.wf.read_content(wiki)\n",
    "            if context:\n",
    "                answer = self.ExtractText(question, context)\n",
    "                logging.info(answer)\n",
    "                answer[\"wiki\"] = self.wf.get_url(wiki)\n",
    "                answers.append(answer)\n",
    "        print(answers)\n",
    "        return self.format_output(answers)\n",
    "\n",
    "    def format_output(self, answers):\n",
    "        final_answer = sorted(answers, key=lambda k: k['score'], reverse=True)[0]\n",
    "        return f\"Answer: {final_answer['answer']}, based on the wiki: {final_answer['wiki']}\""
   ],
   "outputs": [],
   "metadata": {}
  },
  {
   "cell_type": "code",
   "execution_count": null,
   "source": [
    "fa = FindAnswers()"
   ],
   "outputs": [],
   "metadata": {}
  },
  {
   "cell_type": "code",
   "execution_count": null,
   "source": [
    "fa.AnswerQuestion(\"What was the occupation of Lovely Rita according to the song by the Beatles\")"
   ],
   "outputs": [],
   "metadata": {}
  }
 ],
 "metadata": {
  "orig_nbformat": 4,
  "language_info": {
   "name": "python",
   "version": "3.8.10",
   "mimetype": "text/x-python",
   "codemirror_mode": {
    "name": "ipython",
    "version": 3
   },
   "pygments_lexer": "ipython3",
   "nbconvert_exporter": "python",
   "file_extension": ".py"
  },
  "kernelspec": {
   "name": "python3",
   "display_name": "Python 3.8.10 64-bit ('pytorch3d': conda)"
  },
  "interpreter": {
   "hash": "767c5c0297c14b68a621e545219b0352b31d15fbde484d5a1986b9ff47e026e4"
  }
 },
 "nbformat": 4,
 "nbformat_minor": 2
}